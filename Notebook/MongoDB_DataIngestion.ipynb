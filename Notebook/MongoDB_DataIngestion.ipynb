{
 "cells": [
  {
   "cell_type": "code",
   "execution_count": 39,
   "id": "01575af0",
   "metadata": {},
   "outputs": [],
   "source": [
    "# importing module\n",
    "from pymongo import MongoClient\n",
    "import pandas as pd\n",
    "import numpy as np\n",
    "import logging \n",
    "import yaml"
   ]
  },
  {
   "cell_type": "code",
   "execution_count": 40,
   "id": "50e0bdd5",
   "metadata": {},
   "outputs": [],
   "source": [
    "with open(\"E:\\Rajat\\E-Commerce ETL pipeline\\cofig.yaml\" , \"r\") as f:\n",
    "    config = yaml.full_load(f)"
   ]
  },
  {
   "cell_type": "code",
   "execution_count": 41,
   "id": "983a39f9",
   "metadata": {},
   "outputs": [],
   "source": [
    "hostname = config['momgodb_datababse']['hostname']\n",
    "database = config['momgodb_datababse']['database']\n",
    "port = config['momgodb_datababse']['port']\n",
    "username = config['momgodb_datababse']['username']\n",
    "password = config['momgodb_datababse']['password']\n",
    "\n",
    "uri = \"mongodb://\" + username + \":\" + password + \"@\" + hostname + \":\" + port + \"/\" + database\n",
    "\n",
    "# Connect with the portnumber and host\n",
    "client = MongoClient(uri)\n",
    "\n",
    "# Access database\n",
    "mydatabase = client[database]\n"
   ]
  },
  {
   "cell_type": "code",
   "execution_count": 42,
   "id": "db69e0f3",
   "metadata": {},
   "outputs": [],
   "source": [
    "file_name = \"E:\\Rajat\\E-Commerce ETL pipeline\\Data\\Raw\\product_category_name_translation.csv\"\n",
    "\n",
    "product_category_name_translation = pd.read_csv(file_name)"
   ]
  },
  {
   "cell_type": "code",
   "execution_count": 11,
   "id": "a667e29f",
   "metadata": {},
   "outputs": [],
   "source": [
    "product_category_name_translation_mongo =  product_category_name_translation.to_dict(orient='records')"
   ]
  },
  {
   "cell_type": "code",
   "execution_count": 12,
   "id": "00fa32d2",
   "metadata": {},
   "outputs": [
    {
     "data": {
      "text/plain": [
       "InsertManyResult([ObjectId('68d7d28d2e6643ee3a407ab9'), ObjectId('68d7d28d2e6643ee3a407aba'), ObjectId('68d7d28d2e6643ee3a407abb'), ObjectId('68d7d28d2e6643ee3a407abc'), ObjectId('68d7d28d2e6643ee3a407abd'), ObjectId('68d7d28d2e6643ee3a407abe'), ObjectId('68d7d28d2e6643ee3a407abf'), ObjectId('68d7d28d2e6643ee3a407ac0'), ObjectId('68d7d28d2e6643ee3a407ac1'), ObjectId('68d7d28d2e6643ee3a407ac2'), ObjectId('68d7d28d2e6643ee3a407ac3'), ObjectId('68d7d28d2e6643ee3a407ac4'), ObjectId('68d7d28d2e6643ee3a407ac5'), ObjectId('68d7d28d2e6643ee3a407ac6'), ObjectId('68d7d28d2e6643ee3a407ac7'), ObjectId('68d7d28d2e6643ee3a407ac8'), ObjectId('68d7d28d2e6643ee3a407ac9'), ObjectId('68d7d28d2e6643ee3a407aca'), ObjectId('68d7d28d2e6643ee3a407acb'), ObjectId('68d7d28d2e6643ee3a407acc'), ObjectId('68d7d28d2e6643ee3a407acd'), ObjectId('68d7d28d2e6643ee3a407ace'), ObjectId('68d7d28d2e6643ee3a407acf'), ObjectId('68d7d28d2e6643ee3a407ad0'), ObjectId('68d7d28d2e6643ee3a407ad1'), ObjectId('68d7d28d2e6643ee3a407ad2'), ObjectId('68d7d28d2e6643ee3a407ad3'), ObjectId('68d7d28d2e6643ee3a407ad4'), ObjectId('68d7d28d2e6643ee3a407ad5'), ObjectId('68d7d28d2e6643ee3a407ad6'), ObjectId('68d7d28d2e6643ee3a407ad7'), ObjectId('68d7d28d2e6643ee3a407ad8'), ObjectId('68d7d28d2e6643ee3a407ad9'), ObjectId('68d7d28d2e6643ee3a407ada'), ObjectId('68d7d28d2e6643ee3a407adb'), ObjectId('68d7d28d2e6643ee3a407adc'), ObjectId('68d7d28d2e6643ee3a407add'), ObjectId('68d7d28d2e6643ee3a407ade'), ObjectId('68d7d28d2e6643ee3a407adf'), ObjectId('68d7d28d2e6643ee3a407ae0'), ObjectId('68d7d28d2e6643ee3a407ae1'), ObjectId('68d7d28d2e6643ee3a407ae2'), ObjectId('68d7d28d2e6643ee3a407ae3'), ObjectId('68d7d28d2e6643ee3a407ae4'), ObjectId('68d7d28d2e6643ee3a407ae5'), ObjectId('68d7d28d2e6643ee3a407ae6'), ObjectId('68d7d28d2e6643ee3a407ae7'), ObjectId('68d7d28d2e6643ee3a407ae8'), ObjectId('68d7d28d2e6643ee3a407ae9'), ObjectId('68d7d28d2e6643ee3a407aea'), ObjectId('68d7d28d2e6643ee3a407aeb'), ObjectId('68d7d28d2e6643ee3a407aec'), ObjectId('68d7d28d2e6643ee3a407aed'), ObjectId('68d7d28d2e6643ee3a407aee'), ObjectId('68d7d28d2e6643ee3a407aef'), ObjectId('68d7d28d2e6643ee3a407af0'), ObjectId('68d7d28d2e6643ee3a407af1'), ObjectId('68d7d28d2e6643ee3a407af2'), ObjectId('68d7d28d2e6643ee3a407af3'), ObjectId('68d7d28d2e6643ee3a407af4'), ObjectId('68d7d28d2e6643ee3a407af5'), ObjectId('68d7d28d2e6643ee3a407af6'), ObjectId('68d7d28d2e6643ee3a407af7'), ObjectId('68d7d28d2e6643ee3a407af8'), ObjectId('68d7d28d2e6643ee3a407af9'), ObjectId('68d7d28d2e6643ee3a407afa'), ObjectId('68d7d28d2e6643ee3a407afb'), ObjectId('68d7d28d2e6643ee3a407afc'), ObjectId('68d7d28d2e6643ee3a407afd'), ObjectId('68d7d28d2e6643ee3a407afe'), ObjectId('68d7d28d2e6643ee3a407aff')], acknowledged=True)"
      ]
     },
     "execution_count": 12,
     "metadata": {},
     "output_type": "execute_result"
    }
   ],
   "source": [
    "mydatabase.ecomerce.insert_many(product_category_name_translation_mongo)"
   ]
  },
  {
   "cell_type": "code",
   "execution_count": 19,
   "id": "190214a6",
   "metadata": {},
   "outputs": [
    {
     "data": {
      "text/plain": [
       "{'_id': ObjectId('68d7d28d2e6643ee3a407ab9'),\n",
       " 'product_category_name': 'beleza_saude',\n",
       " 'product_category_name_english': 'health_beauty'}"
      ]
     },
     "execution_count": 19,
     "metadata": {},
     "output_type": "execute_result"
    }
   ],
   "source": [
    "mydatabase.get_collection('ecomerce').find_one()"
   ]
  }
 ],
 "metadata": {
  "kernelspec": {
   "display_name": "Python 3",
   "language": "python",
   "name": "python3"
  },
  "language_info": {
   "codemirror_mode": {
    "name": "ipython",
    "version": 3
   },
   "file_extension": ".py",
   "mimetype": "text/x-python",
   "name": "python",
   "nbconvert_exporter": "python",
   "pygments_lexer": "ipython3",
   "version": "3.11.9"
  }
 },
 "nbformat": 4,
 "nbformat_minor": 5
}
