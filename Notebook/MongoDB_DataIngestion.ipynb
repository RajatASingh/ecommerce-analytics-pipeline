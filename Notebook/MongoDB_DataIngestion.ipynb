{
 "cells": [
  {
   "cell_type": "code",
   "execution_count": 18,
   "id": "01575af0",
   "metadata": {},
   "outputs": [],
   "source": [
    "# importing module\n",
    "from pymongo import MongoClient\n",
    "import pandas as pd\n",
    "import numpy as np\n",
    "import logging \n",
    "import yaml"
   ]
  },
  {
   "cell_type": "code",
   "execution_count": 19,
   "id": "50e0bdd5",
   "metadata": {},
   "outputs": [],
   "source": [
    "with open(\"..\\config.yaml\" , \"r\") as f:\n",
    "    config = yaml.full_load(f)"
   ]
  },
  {
   "cell_type": "code",
   "execution_count": null,
   "id": "983a39f9",
   "metadata": {},
   "outputs": [
    {
     "name": "stdout",
     "output_type": "stream",
     "text": [
      "Successfully connected to the mongoserver.\n"
     ]
    }
   ],
   "source": [
    "hostname = config['momgodb_datababse']['hostname']\n",
    "database = config['momgodb_datababse']['database']\n",
    "port = config['momgodb_datababse']['port']\n",
    "username = config['momgodb_datababse']['username']\n",
    "password = config['momgodb_datababse']['password']\n",
    "\n",
    "try:\n",
    "    uri = f\"mongodb://{username}:{password}@{hostname}:{port}/{database}\"\n",
    "    client = MongoClient(uri)\n",
    "    if client._connect:\n",
    "        print(\"Successfully connected to the mongo server.\")        \n",
    "except ConnectionError as cerror:\n",
    "    print(cerror)\n",
    "\n",
    "\n",
    "# Access database\n",
    "mydatabase = client[database]"
   ]
  },
  {
   "cell_type": "code",
   "execution_count": 21,
   "id": "db69e0f3",
   "metadata": {},
   "outputs": [],
   "source": [
    "file_name = config['file_path']['raw_file_mongo']\n",
    "\n",
    "product_category_name_translation = pd.read_csv(file_name)"
   ]
  },
  {
   "cell_type": "code",
   "execution_count": 22,
   "id": "a667e29f",
   "metadata": {},
   "outputs": [],
   "source": [
    "product_category_name_translation_mongo =  product_category_name_translation.to_dict(orient='records')"
   ]
  },
  {
   "cell_type": "code",
   "execution_count": 11,
   "id": "00fa32d2",
   "metadata": {},
   "outputs": [
    {
     "data": {
      "text/plain": [
       "InsertManyResult([ObjectId('68d7e899fa04db5d268aec3e'), ObjectId('68d7e899fa04db5d268aec3f'), ObjectId('68d7e899fa04db5d268aec40'), ObjectId('68d7e899fa04db5d268aec41'), ObjectId('68d7e899fa04db5d268aec42'), ObjectId('68d7e899fa04db5d268aec43'), ObjectId('68d7e899fa04db5d268aec44'), ObjectId('68d7e899fa04db5d268aec45'), ObjectId('68d7e899fa04db5d268aec46'), ObjectId('68d7e899fa04db5d268aec47'), ObjectId('68d7e899fa04db5d268aec48'), ObjectId('68d7e899fa04db5d268aec49'), ObjectId('68d7e899fa04db5d268aec4a'), ObjectId('68d7e899fa04db5d268aec4b'), ObjectId('68d7e899fa04db5d268aec4c'), ObjectId('68d7e899fa04db5d268aec4d'), ObjectId('68d7e899fa04db5d268aec4e'), ObjectId('68d7e899fa04db5d268aec4f'), ObjectId('68d7e899fa04db5d268aec50'), ObjectId('68d7e899fa04db5d268aec51'), ObjectId('68d7e899fa04db5d268aec52'), ObjectId('68d7e899fa04db5d268aec53'), ObjectId('68d7e899fa04db5d268aec54'), ObjectId('68d7e899fa04db5d268aec55'), ObjectId('68d7e899fa04db5d268aec56'), ObjectId('68d7e899fa04db5d268aec57'), ObjectId('68d7e899fa04db5d268aec58'), ObjectId('68d7e899fa04db5d268aec59'), ObjectId('68d7e899fa04db5d268aec5a'), ObjectId('68d7e899fa04db5d268aec5b'), ObjectId('68d7e899fa04db5d268aec5c'), ObjectId('68d7e899fa04db5d268aec5d'), ObjectId('68d7e899fa04db5d268aec5e'), ObjectId('68d7e899fa04db5d268aec5f'), ObjectId('68d7e899fa04db5d268aec60'), ObjectId('68d7e899fa04db5d268aec61'), ObjectId('68d7e899fa04db5d268aec62'), ObjectId('68d7e899fa04db5d268aec63'), ObjectId('68d7e899fa04db5d268aec64'), ObjectId('68d7e899fa04db5d268aec65'), ObjectId('68d7e899fa04db5d268aec66'), ObjectId('68d7e899fa04db5d268aec67'), ObjectId('68d7e899fa04db5d268aec68'), ObjectId('68d7e899fa04db5d268aec69'), ObjectId('68d7e899fa04db5d268aec6a'), ObjectId('68d7e899fa04db5d268aec6b'), ObjectId('68d7e899fa04db5d268aec6c'), ObjectId('68d7e899fa04db5d268aec6d'), ObjectId('68d7e899fa04db5d268aec6e'), ObjectId('68d7e899fa04db5d268aec6f'), ObjectId('68d7e899fa04db5d268aec70'), ObjectId('68d7e899fa04db5d268aec71'), ObjectId('68d7e899fa04db5d268aec72'), ObjectId('68d7e899fa04db5d268aec73'), ObjectId('68d7e899fa04db5d268aec74'), ObjectId('68d7e899fa04db5d268aec75'), ObjectId('68d7e899fa04db5d268aec76'), ObjectId('68d7e899fa04db5d268aec77'), ObjectId('68d7e899fa04db5d268aec78'), ObjectId('68d7e899fa04db5d268aec79'), ObjectId('68d7e899fa04db5d268aec7a'), ObjectId('68d7e899fa04db5d268aec7b'), ObjectId('68d7e899fa04db5d268aec7c'), ObjectId('68d7e899fa04db5d268aec7d'), ObjectId('68d7e899fa04db5d268aec7e'), ObjectId('68d7e899fa04db5d268aec7f'), ObjectId('68d7e899fa04db5d268aec80'), ObjectId('68d7e899fa04db5d268aec81'), ObjectId('68d7e899fa04db5d268aec82'), ObjectId('68d7e899fa04db5d268aec83'), ObjectId('68d7e899fa04db5d268aec84')], acknowledged=True)"
      ]
     },
     "execution_count": 11,
     "metadata": {},
     "output_type": "execute_result"
    }
   ],
   "source": [
    "mydatabase.ecomerce.insert_many(product_category_name_translation_mongo)"
   ]
  },
  {
   "cell_type": "code",
   "execution_count": 41,
   "id": "190214a6",
   "metadata": {},
   "outputs": [
    {
     "name": "stdout",
     "output_type": "stream",
     "text": [
      "{'_id': ObjectId('68d7d28d2e6643ee3a407ab9'), 'product_category_name': 'beleza_saude', 'product_category_name_english': 'health_beauty'}\n",
      "{'_id': ObjectId('68d7e899fa04db5d268aec3e'), 'product_category_name': 'beleza_saude', 'product_category_name_english': 'health_beauty'}\n"
     ]
    }
   ],
   "source": [
    "result = mydatabase.get_collection('ecomerce').find( {'product_category_name': 'beleza_saude'})\n",
    "\n",
    "for doc in result:\n",
    "    print(doc)\n",
    "    "
   ]
  },
  {
   "cell_type": "code",
   "execution_count": 13,
   "id": "2243e56e",
   "metadata": {},
   "outputs": [],
   "source": [
    "client.close()"
   ]
  }
 ],
 "metadata": {
  "kernelspec": {
   "display_name": "Python 3",
   "language": "python",
   "name": "python3"
  },
  "language_info": {
   "codemirror_mode": {
    "name": "ipython",
    "version": 3
   },
   "file_extension": ".py",
   "mimetype": "text/x-python",
   "name": "python",
   "nbconvert_exporter": "python",
   "pygments_lexer": "ipython3",
   "version": "3.11.9"
  }
 },
 "nbformat": 4,
 "nbformat_minor": 5
}
