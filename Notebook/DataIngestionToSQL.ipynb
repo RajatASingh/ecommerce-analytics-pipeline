{
 "cells": [
  {
   "cell_type": "code",
   "execution_count": 53,
   "metadata": {
    "executionInfo": {
     "elapsed": 6,
     "status": "ok",
     "timestamp": 1758738293419,
     "user": {
      "displayName": "Asus brown",
      "userId": "09746281233763502343"
     },
     "user_tz": -330
    },
    "id": "efHmeuiA76Qz"
   },
   "outputs": [],
   "source": [
    "from sqlalchemy import create_engine\n",
    "import pandas as pd\n",
    "import numpy as np\n",
    "import logging \n",
    "import yaml"
   ]
  },
  {
   "cell_type": "code",
   "execution_count": 54,
   "metadata": {},
   "outputs": [],
   "source": [
    "with open(\"../cofig.yaml\" , \"r\") as f:\n",
    "    config = yaml.full_load(f)"
   ]
  },
  {
   "cell_type": "code",
   "execution_count": null,
   "metadata": {},
   "outputs": [],
   "source": [
    "# Configure logging\n",
    "logging.basicConfig(\n",
    "    filename=\"Data-Ingestion-To-Sql.log\",\n",
    "    level=logging.INFO,   \n",
    "    format=\"%(asctime)s - %(levelname)s - %(message)s\"\n",
    ")"
   ]
  },
  {
   "cell_type": "code",
   "execution_count": 56,
   "metadata": {
    "executionInfo": {
     "elapsed": 89,
     "status": "ok",
     "timestamp": 1758738296166,
     "user": {
      "displayName": "Asus brown",
      "userId": "09746281233763502343"
     },
     "user_tz": -330
    },
    "id": "zuEn7G688Zcd"
   },
   "outputs": [],
   "source": [
    "df = pd.read_csv(config['file_path']['raw_file'])\n",
    "\n",
    "logging.info(\"Data lod\")"
   ]
  },
  {
   "cell_type": "code",
   "execution_count": 57,
   "metadata": {
    "colab": {
     "base_uri": "https://localhost:8080/",
     "height": 206
    },
    "executionInfo": {
     "elapsed": 30,
     "status": "ok",
     "timestamp": 1758738296197,
     "user": {
      "displayName": "Asus brown",
      "userId": "09746281233763502343"
     },
     "user_tz": -330
    },
    "id": "fZpo3Q998jrq",
    "outputId": "9bd8f468-89de-4b64-c21a-fa0f6995d9fe"
   },
   "outputs": [
    {
     "data": {
      "text/html": [
       "<div>\n",
       "<style scoped>\n",
       "    .dataframe tbody tr th:only-of-type {\n",
       "        vertical-align: middle;\n",
       "    }\n",
       "\n",
       "    .dataframe tbody tr th {\n",
       "        vertical-align: top;\n",
       "    }\n",
       "\n",
       "    .dataframe thead th {\n",
       "        text-align: right;\n",
       "    }\n",
       "</style>\n",
       "<table border=\"1\" class=\"dataframe\">\n",
       "  <thead>\n",
       "    <tr style=\"text-align: right;\">\n",
       "      <th></th>\n",
       "      <th>order_id</th>\n",
       "      <th>payment_sequential</th>\n",
       "      <th>payment_type</th>\n",
       "      <th>payment_installments</th>\n",
       "      <th>payment_value</th>\n",
       "    </tr>\n",
       "  </thead>\n",
       "  <tbody>\n",
       "    <tr>\n",
       "      <th>0</th>\n",
       "      <td>b81ef226f3fe1789b1e8b2acac839d17</td>\n",
       "      <td>1</td>\n",
       "      <td>credit_card</td>\n",
       "      <td>8</td>\n",
       "      <td>99.33</td>\n",
       "    </tr>\n",
       "    <tr>\n",
       "      <th>1</th>\n",
       "      <td>a9810da82917af2d9aefd1278f1dcfa0</td>\n",
       "      <td>1</td>\n",
       "      <td>credit_card</td>\n",
       "      <td>1</td>\n",
       "      <td>24.39</td>\n",
       "    </tr>\n",
       "    <tr>\n",
       "      <th>2</th>\n",
       "      <td>25e8ea4e93396b6fa0d3dd708e76c1bd</td>\n",
       "      <td>1</td>\n",
       "      <td>credit_card</td>\n",
       "      <td>1</td>\n",
       "      <td>65.71</td>\n",
       "    </tr>\n",
       "    <tr>\n",
       "      <th>3</th>\n",
       "      <td>ba78997921bbcdc1373bb41e913ab953</td>\n",
       "      <td>1</td>\n",
       "      <td>credit_card</td>\n",
       "      <td>8</td>\n",
       "      <td>107.78</td>\n",
       "    </tr>\n",
       "    <tr>\n",
       "      <th>4</th>\n",
       "      <td>42fdf880ba16b47b59251dd489d4441a</td>\n",
       "      <td>1</td>\n",
       "      <td>credit_card</td>\n",
       "      <td>2</td>\n",
       "      <td>128.45</td>\n",
       "    </tr>\n",
       "  </tbody>\n",
       "</table>\n",
       "</div>"
      ],
      "text/plain": [
       "                           order_id  payment_sequential payment_type  \\\n",
       "0  b81ef226f3fe1789b1e8b2acac839d17                   1  credit_card   \n",
       "1  a9810da82917af2d9aefd1278f1dcfa0                   1  credit_card   \n",
       "2  25e8ea4e93396b6fa0d3dd708e76c1bd                   1  credit_card   \n",
       "3  ba78997921bbcdc1373bb41e913ab953                   1  credit_card   \n",
       "4  42fdf880ba16b47b59251dd489d4441a                   1  credit_card   \n",
       "\n",
       "   payment_installments  payment_value  \n",
       "0                     8          99.33  \n",
       "1                     1          24.39  \n",
       "2                     1          65.71  \n",
       "3                     8         107.78  \n",
       "4                     2         128.45  "
      ]
     },
     "execution_count": 57,
     "metadata": {},
     "output_type": "execute_result"
    }
   ],
   "source": [
    "df.head()"
   ]
  },
  {
   "cell_type": "code",
   "execution_count": 58,
   "metadata": {
    "executionInfo": {
     "elapsed": 7,
     "status": "ok",
     "timestamp": 1758738296205,
     "user": {
      "displayName": "Asus brown",
      "userId": "09746281233763502343"
     },
     "user_tz": -330
    },
    "id": "EUlsbcx182Pq"
   },
   "outputs": [],
   "source": [
    "String_hostname =  config['Database']['String_hostname']\n",
    "String_database = config['Database']['String_database']\n",
    "String_port = config['Database']['String_port']\n",
    "String_username = config['Database']['String_username']\n",
    "String_password = config['Database']['String_password']"
   ]
  },
  {
   "cell_type": "code",
   "execution_count": 59,
   "metadata": {
    "executionInfo": {
     "elapsed": 3,
     "status": "ok",
     "timestamp": 1758738296210,
     "user": {
      "displayName": "Asus brown",
      "userId": "09746281233763502343"
     },
     "user_tz": -330
    },
    "id": "mzod97m_-ABl"
   },
   "outputs": [],
   "source": [
    "# pip install pymysql"
   ]
  },
  {
   "cell_type": "code",
   "execution_count": 65,
   "metadata": {
    "executionInfo": {
     "elapsed": 3,
     "status": "ok",
     "timestamp": 1758738990336,
     "user": {
      "displayName": "Asus brown",
      "userId": "09746281233763502343"
     },
     "user_tz": -330
    },
    "id": "N2j_h0IR8mLs"
   },
   "outputs": [
    {
     "name": "stdout",
     "output_type": "stream",
     "text": [
      "Successfully connected to DB\n",
      "sql connection is closed.\n"
     ]
    }
   ],
   "source": [
    "from logging import exception\n",
    "\n",
    "try:\n",
    "    engine = create_engine( f\"mysql+pymysql://{String_username}:{String_password}@{String_hostname}:{String_port}/{String_database}\")\n",
    "    print(\"Successfully connected to DB\")\n",
    "except exception as e:\n",
    "    print(e)\n",
    "finally:\n",
    "    engine.dispose()\n",
    "    print(\"sql connection is closed.\")"
   ]
  },
  {
   "cell_type": "code",
   "execution_count": 61,
   "metadata": {
    "colab": {
     "base_uri": "https://localhost:8080/"
    },
    "executionInfo": {
     "elapsed": 5248,
     "status": "ok",
     "timestamp": 1758738402021,
     "user": {
      "displayName": "Asus brown",
      "userId": "09746281233763502343"
     },
     "user_tz": -330
    },
    "id": "d-12nUrY-Lb-",
    "outputId": "06492cd5-bb10-4985-fbc1-1bba95772259"
   },
   "outputs": [
    {
     "data": {
      "text/plain": [
       "103886"
      ]
     },
     "execution_count": 61,
     "metadata": {},
     "output_type": "execute_result"
    }
   ],
   "source": [
    "df.to_sql(name= 'olist_order_payments' , if_exists= \"replace\" , con= engine )"
   ]
  },
  {
   "cell_type": "code",
   "execution_count": 62,
   "metadata": {
    "colab": {
     "base_uri": "https://localhost:8080/"
    },
    "executionInfo": {
     "elapsed": 32,
     "status": "ok",
     "timestamp": 1758739091737,
     "user": {
      "displayName": "Asus brown",
      "userId": "09746281233763502343"
     },
     "user_tz": -330
    },
    "id": "FR8aZ4fZ-92i",
    "outputId": "e0a85fba-d6d6-411e-bed6-706159622920"
   },
   "outputs": [
    {
     "data": {
      "text/plain": [
       "np.float64(17.814587593078613)"
      ]
     },
     "execution_count": 62,
     "metadata": {},
     "output_type": "execute_result"
    }
   ],
   "source": [
    "df.memory_usage(deep=True).sum() / 1024**2  # in MB"
   ]
  },
  {
   "cell_type": "code",
   "execution_count": 63,
   "metadata": {
    "executionInfo": {
     "elapsed": 1300,
     "status": "ok",
     "timestamp": 1758739130857,
     "user": {
      "displayName": "Asus brown",
      "userId": "09746281233763502343"
     },
     "user_tz": -330
    },
    "id": "fbEPM4i1_asi"
   },
   "outputs": [],
   "source": [
    "query = \"select * from olist_order_payments;\"\n",
    "\n",
    "sql_df = pd.read_sql(query , engine)"
   ]
  },
  {
   "cell_type": "code",
   "execution_count": null,
   "metadata": {
    "colab": {
     "base_uri": "https://localhost:8080/",
     "height": 272
    },
    "executionInfo": {
     "elapsed": 13,
     "status": "ok",
     "timestamp": 1758739145327,
     "user": {
      "displayName": "Asus brown",
      "userId": "09746281233763502343"
     },
     "user_tz": -330
    },
    "id": "ZkdRoghiBW_G",
    "outputId": "3fd7777d-1aac-4077-ad54-47becbe577ce"
   },
   "outputs": [
    {
     "data": {
      "text/plain": [
       "index                     int64\n",
       "order_id                 object\n",
       "payment_sequential        int64\n",
       "payment_type             object\n",
       "payment_installments      int64\n",
       "payment_value           float64\n",
       "dtype: object"
      ]
     },
     "execution_count": 64,
     "metadata": {},
     "output_type": "execute_result"
    }
   ],
   "source": [
    "sql_df.dtypes"
   ]
  }
 ],
 "metadata": {
  "colab": {
   "authorship_tag": "ABX9TyMCzRhmVHy5724o+mu2VZvQ",
   "provenance": []
  },
  "kernelspec": {
   "display_name": "Python 3",
   "name": "python3"
  },
  "language_info": {
   "codemirror_mode": {
    "name": "ipython",
    "version": 3
   },
   "file_extension": ".py",
   "mimetype": "text/x-python",
   "name": "python",
   "nbconvert_exporter": "python",
   "pygments_lexer": "ipython3",
   "version": "3.11.9"
  }
 },
 "nbformat": 4,
 "nbformat_minor": 0
}
